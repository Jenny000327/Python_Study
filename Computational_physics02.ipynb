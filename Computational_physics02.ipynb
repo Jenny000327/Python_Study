{
  "nbformat": 4,
  "nbformat_minor": 0,
  "metadata": {
    "colab": {
      "provenance": [],
      "authorship_tag": "ABX9TyOvY173KpKAfpnSq3CYDjgs",
      "include_colab_link": true
    },
    "kernelspec": {
      "name": "python3",
      "display_name": "Python 3"
    },
    "language_info": {
      "name": "python"
    }
  },
  "cells": [
    {
      "cell_type": "markdown",
      "metadata": {
        "id": "view-in-github",
        "colab_type": "text"
      },
      "source": [
        "<a href=\"https://colab.research.google.com/github/Jenny000327/Python_Study/blob/main/Computational_physics02.ipynb\" target=\"_parent\"><img src=\"https://colab.research.google.com/assets/colab-badge.svg\" alt=\"Open In Colab\"/></a>"
      ]
    },
    {
      "cell_type": "markdown",
      "source": [
        "# 1주차\n"
      ],
      "metadata": {
        "id": "diDPpPjzlftK"
      }
    },
    {
      "cell_type": "markdown",
      "source": [
        "## 원주율 구하기\n",
        "\n",
        "---\n",
        "\n",
        "1. 500항 까지 더해서 계산\n",
        "2. |Sn -S(n-1)| < 10e-7 이면 stop\n",
        "3. |Sn -S(n-1)| < 10e-12 이면 stop\n"
      ],
      "metadata": {
        "id": "S0PuhxiDllxO"
      }
    },
    {
      "cell_type": "code",
      "execution_count": null,
      "metadata": {
        "id": "yoCHUpkHlUpM"
      },
      "outputs": [],
      "source": [
        "import math"
      ]
    },
    {
      "cell_type": "code",
      "source": [
        "pi = 0\n",
        "for i in range(1,501): # 1부터 500까지\n",
        "    pi += 1/pow(i,2)\n",
        "print(math.sqrt(6*pi))"
      ],
      "metadata": {
        "colab": {
          "base_uri": "https://localhost:8080/"
        },
        "id": "z3VYSvaGmFA5",
        "outputId": "e26a937c-319f-4831-a13e-10c1089d7ec6"
      },
      "execution_count": null,
      "outputs": [
        {
          "output_type": "stream",
          "name": "stdout",
          "text": [
            "3.139684123138722\n"
          ]
        }
      ]
    },
    {
      "cell_type": "code",
      "source": [
        "number = float(input())\n",
        "\n",
        "pi = 0\n",
        "i = 1\n",
        "while True:\n",
        "    pi += 1/pow(i,2)\n",
        "    if (1/pow(i,2)) < number:\n",
        "        result = math.sqrt(6 * pi)\n",
        "        break\n",
        "    i += 1\n",
        "\n",
        "print(result)"
      ],
      "metadata": {
        "colab": {
          "base_uri": "https://localhost:8080/"
        },
        "id": "1EvyaDpFmanr",
        "outputId": "ebd775b2-06b6-41a6-8fda-d745ee955613"
      },
      "execution_count": null,
      "outputs": [
        {
          "output_type": "stream",
          "name": "stdout",
          "text": [
            "10e-12\n",
            "3.1415896338426545\n"
          ]
        }
      ]
    },
    {
      "cell_type": "markdown",
      "source": [
        "## 소수  (prime number) 구하기 "
      ],
      "metadata": {
        "id": "TTJSTGGZm7kR"
      }
    },
    {
      "cell_type": "code",
      "source": [
        "n = int(input())\n",
        "\n",
        "prime_num = list(range(2,n+1))  #1은 소수가 아님. 2부터 n까지 리스트에 저장\n",
        "for i in range(2, int(math.sqrt(n))+1):\n",
        "    for j in prime_num[:]:\n",
        "        if not j % i and j != i:    #j가 i로 나누어 떨어지고, i가 j와 같지 않다면\n",
        "            prime_num.remove(j)    #리스트에서 j 제거\n",
        "print(len(prime_num))   #남은 리스트의 길이 반환\n",
        "print(prime_num)"
      ],
      "metadata": {
        "colab": {
          "base_uri": "https://localhost:8080/"
        },
        "id": "dcWrWvezm393",
        "outputId": "70c89c7a-bb80-469e-92aa-e1c043f5ac25"
      },
      "execution_count": null,
      "outputs": [
        {
          "output_type": "stream",
          "name": "stdout",
          "text": [
            "1000\n",
            "168\n",
            "[2, 3, 5, 7, 11, 13, 17, 19, 23, 29, 31, 37, 41, 43, 47, 53, 59, 61, 67, 71, 73, 79, 83, 89, 97, 101, 103, 107, 109, 113, 127, 131, 137, 139, 149, 151, 157, 163, 167, 173, 179, 181, 191, 193, 197, 199, 211, 223, 227, 229, 233, 239, 241, 251, 257, 263, 269, 271, 277, 281, 283, 293, 307, 311, 313, 317, 331, 337, 347, 349, 353, 359, 367, 373, 379, 383, 389, 397, 401, 409, 419, 421, 431, 433, 439, 443, 449, 457, 461, 463, 467, 479, 487, 491, 499, 503, 509, 521, 523, 541, 547, 557, 563, 569, 571, 577, 587, 593, 599, 601, 607, 613, 617, 619, 631, 641, 643, 647, 653, 659, 661, 673, 677, 683, 691, 701, 709, 719, 727, 733, 739, 743, 751, 757, 761, 769, 773, 787, 797, 809, 811, 821, 823, 827, 829, 839, 853, 857, 859, 863, 877, 881, 883, 887, 907, 911, 919, 929, 937, 941, 947, 953, 967, 971, 977, 983, 991, 997]\n"
          ]
        }
      ]
    },
    {
      "cell_type": "code",
      "source": [
        "n = int(input())\n",
        "\n",
        "def prime(num):\n",
        "    if num < 2:\n",
        "        return False\n",
        "    for i in range(2, int(math.sqrt(num))+1):\n",
        "        if num % i == 0:\n",
        "            return False\n",
        "    return True\n",
        "\n",
        "#__main__\n",
        "for i in range(2,n):\n",
        "    if prime(i):\n",
        "        print(i)\n"
      ],
      "metadata": {
        "id": "oQRAr494oOvT",
        "colab": {
          "base_uri": "https://localhost:8080/"
        },
        "outputId": "6abd7efe-6664-415a-d980-3e1d0cd0bf72"
      },
      "execution_count": null,
      "outputs": [
        {
          "output_type": "stream",
          "name": "stdout",
          "text": [
            "1000\n",
            "2\n",
            "3\n",
            "5\n",
            "7\n",
            "11\n",
            "13\n",
            "17\n",
            "19\n",
            "23\n",
            "29\n",
            "31\n",
            "37\n",
            "41\n",
            "43\n",
            "47\n",
            "53\n",
            "59\n",
            "61\n",
            "67\n",
            "71\n",
            "73\n",
            "79\n",
            "83\n",
            "89\n",
            "97\n",
            "101\n",
            "103\n",
            "107\n",
            "109\n",
            "113\n",
            "127\n",
            "131\n",
            "137\n",
            "139\n",
            "149\n",
            "151\n",
            "157\n",
            "163\n",
            "167\n",
            "173\n",
            "179\n",
            "181\n",
            "191\n",
            "193\n",
            "197\n",
            "199\n",
            "211\n",
            "223\n",
            "227\n",
            "229\n",
            "233\n",
            "239\n",
            "241\n",
            "251\n",
            "257\n",
            "263\n",
            "269\n",
            "271\n",
            "277\n",
            "281\n",
            "283\n",
            "293\n",
            "307\n",
            "311\n",
            "313\n",
            "317\n",
            "331\n",
            "337\n",
            "347\n",
            "349\n",
            "353\n",
            "359\n",
            "367\n",
            "373\n",
            "379\n",
            "383\n",
            "389\n",
            "397\n",
            "401\n",
            "409\n",
            "419\n",
            "421\n",
            "431\n",
            "433\n",
            "439\n",
            "443\n",
            "449\n",
            "457\n",
            "461\n",
            "463\n",
            "467\n",
            "479\n",
            "487\n",
            "491\n",
            "499\n",
            "503\n",
            "509\n",
            "521\n",
            "523\n",
            "541\n",
            "547\n",
            "557\n",
            "563\n",
            "569\n",
            "571\n",
            "577\n",
            "587\n",
            "593\n",
            "599\n",
            "601\n",
            "607\n",
            "613\n",
            "617\n",
            "619\n",
            "631\n",
            "641\n",
            "643\n",
            "647\n",
            "653\n",
            "659\n",
            "661\n",
            "673\n",
            "677\n",
            "683\n",
            "691\n",
            "701\n",
            "709\n",
            "719\n",
            "727\n",
            "733\n",
            "739\n",
            "743\n",
            "751\n",
            "757\n",
            "761\n",
            "769\n",
            "773\n",
            "787\n",
            "797\n",
            "809\n",
            "811\n",
            "821\n",
            "823\n",
            "827\n",
            "829\n",
            "839\n",
            "853\n",
            "857\n",
            "859\n",
            "863\n",
            "877\n",
            "881\n",
            "883\n",
            "887\n",
            "907\n",
            "911\n",
            "919\n",
            "929\n",
            "937\n",
            "941\n",
            "947\n",
            "953\n",
            "967\n",
            "971\n",
            "977\n",
            "983\n",
            "991\n",
            "997\n"
          ]
        }
      ]
    },
    {
      "cell_type": "markdown",
      "source": [
        "# 3월22일\n"
      ],
      "metadata": {
        "id": "Nd8q-pCuLojl"
      }
    },
    {
      "cell_type": "markdown",
      "source": [
        "## pi계산"
      ],
      "metadata": {
        "id": "f1xRBoxs6ylL"
      }
    },
    {
      "cell_type": "markdown",
      "source": [
        "### 1) 500까지"
      ],
      "metadata": {
        "id": "hLrMzdg-2lbj"
      }
    },
    {
      "cell_type": "code",
      "source": [
        "import math\n",
        "pi = 0\n",
        "n =500\n",
        "\n",
        "for i in range(1,n+1): # 1부터 n까지\n",
        "    pi += 1/pow(i,2)\n",
        "print(math.sqrt(6*pi))"
      ],
      "metadata": {
        "colab": {
          "base_uri": "https://localhost:8080/"
        },
        "id": "gbyBy9ZrpMQp",
        "outputId": "339f3d48-56a1-4b94-f286-576757b2938a"
      },
      "execution_count": 8,
      "outputs": [
        {
          "output_type": "stream",
          "name": "stdout",
          "text": [
            "3.139684123138722\n"
          ]
        }
      ]
    },
    {
      "cell_type": "markdown",
      "source": [
        "### 2) 10e-7 정확도 \n",
        "### 3) 변화량이 10e-7 작을때 \n",
        "\n",
        "( 몇번째 항까지 더했는지 )"
      ],
      "metadata": {
        "id": "qfB_T3e62qF9"
      }
    },
    {
      "cell_type": "code",
      "source": [
        "import math\n",
        "\n",
        "number = float(input())\n",
        "\n",
        "pi = 0\n",
        "i = 1\n",
        "term = 0\n",
        "\n",
        "while True:\n",
        "    if term % 20 == 0:\n",
        "        print(f\"항: {term} 결과: {math.sqrt(6 * pi)}\")\n",
        "        #print(math.sqrt(6 * pi))\n",
        "\n",
        "    pi += 1/pow(i,2)\n",
        "    term += 1\n",
        "    if (1/pow(i,2)) < number:\n",
        "        result =  math.sqrt(6 * pi) \n",
        "        break\n",
        "    i += 1\n",
        "\n",
        "print(term)\n",
        "print(result)"
      ],
      "metadata": {
        "colab": {
          "base_uri": "https://localhost:8080/"
        },
        "id": "O4b8ZDYZKSwA",
        "outputId": "52d79c9e-dbe4-4394-9252-7fd55a529900"
      },
      "execution_count": 9,
      "outputs": [
        {
          "output_type": "stream",
          "name": "stdout",
          "text": [
            "10e-6\n",
            "항: 0 결과: 0.0\n",
            "항: 20 결과: 3.094669524113704\n",
            "항: 40 결과: 3.117926198299378\n",
            "항: 60 결과: 3.1257692021405243\n",
            "항: 80 결과: 3.129707845474619\n",
            "항: 100 결과: 3.1320765318091053\n",
            "항: 120 결과: 3.133657951297018\n",
            "항: 140 결과: 3.1347886619402168\n",
            "항: 160 결과: 3.135637310731367\n",
            "항: 180 결과: 3.1362977360068847\n",
            "항: 200 결과: 3.136826306330968\n",
            "항: 220 결과: 3.137258925140503\n",
            "항: 240 결과: 3.1376195454651565\n",
            "항: 260 결과: 3.1379247600627806\n",
            "항: 280 결과: 3.1381864268097726\n",
            "항: 300 결과: 3.1384132451584086\n",
            "317\n",
            "3.138583562519263\n"
          ]
        }
      ]
    },
    {
      "cell_type": "markdown",
      "source": [
        "### Monte Carlo"
      ],
      "metadata": {
        "id": "1xX2027z4nuT"
      }
    },
    {
      "cell_type": "code",
      "source": [
        "import random\n",
        "\n",
        "def estimate_pi(n):\n",
        "    num_points_in_circle = 0\n",
        "    num_points_total = n\n",
        "    for _ in range(int(n)):\n",
        "        x = random.uniform(0, 1)\n",
        "        y = random.uniform(0, 1)\n",
        "        if (x**2 + y**2) < 1:\n",
        "            num_points_in_circle += 1\n",
        "    return 4 * num_points_in_circle / num_points_total\n",
        "\n",
        "num = float(input())\n",
        "print(estimate_pi(num))\n"
      ],
      "metadata": {
        "colab": {
          "base_uri": "https://localhost:8080/"
        },
        "id": "oFfVrCJrLx3p",
        "outputId": "71d7d640-8ab3-4e47-b2c6-845bd530333e"
      },
      "execution_count": 6,
      "outputs": [
        {
          "output_type": "stream",
          "name": "stdout",
          "text": [
            "100000000\n",
            "3.1418596\n"
          ]
        }
      ]
    },
    {
      "cell_type": "markdown",
      "source": [
        "### Machin's formula"
      ],
      "metadata": {
        "id": "mADP6skL2KbA"
      }
    },
    {
      "cell_type": "markdown",
      "source": [
        "pi / 4 = 4 * arctan(1/5) - arctan(1/239)"
      ],
      "metadata": {
        "id": "JZD-65Hy1tCd"
      }
    },
    {
      "cell_type": "markdown",
      "source": [
        "테일러 급수 \n",
        "\n",
        "arctan(x) = x - x^3 / 3 + x^5 / 5 - x^7 / 7 + ...\n"
      ],
      "metadata": {
        "id": "vvrKqz721vCq"
      }
    },
    {
      "cell_type": "code",
      "source": [
        "import math\n",
        "\n",
        "def arctan(x, terms=1000):\n",
        "    result = 0\n",
        "    for n in range(terms):\n",
        "        sign = (-1)**n\n",
        "        term = x**(2*n + 1) / (2*n + 1)\n",
        "        result += sign * term\n",
        "    return result\n",
        "\n",
        "def estimate_pi():\n",
        "    term1 = 4 * arctan(1/5)\n",
        "    term2 = arctan(1/239)\n",
        "    return 4 * (term1 - term2)\n",
        "\n",
        "result = estimate_pi()\n",
        "print(f\"결과: {result}, 오차: {abs(math.pi - result)}\")\n"
      ],
      "metadata": {
        "colab": {
          "base_uri": "https://localhost:8080/"
        },
        "id": "7X3n62Pk1q0P",
        "outputId": "13e21a83-bb98-4b49-84a4-f8123f09fe2f"
      },
      "execution_count": 7,
      "outputs": [
        {
          "output_type": "stream",
          "name": "stdout",
          "text": [
            "결과: 3.141592653589794, 오차: 8.881784197001252e-16\n"
          ]
        }
      ]
    },
    {
      "cell_type": "markdown",
      "source": [
        "## 2. 소수 구하기\n",
        "(  ,  ) 안에 있는것 \n",
        "ex) 3821~5190 사이의 소수구하기\n",
        "\n"
      ],
      "metadata": {
        "id": "7ya8oS8Y6J3n"
      }
    },
    {
      "cell_type": "code",
      "source": [
        "import math\n",
        "def prime(num):\n",
        "    if num < 2:\n",
        "        return False\n",
        "    for i in range(2, int(math.sqrt(num))+1):\n",
        "        if num % i == 0:\n",
        "            return False\n",
        "    return True\n",
        "\n",
        "def func(n, m):\n",
        "    primes = []\n",
        "    for i in range(n,m+1):\n",
        "        if prime(i):\n",
        "            primes.append(i)\n",
        "    return primes\n",
        "\n",
        "\n",
        "#__main__\n",
        "n,m = map(int, input().split())\n",
        "primes = func(n,m)\n",
        "print(primes)"
      ],
      "metadata": {
        "colab": {
          "base_uri": "https://localhost:8080/"
        },
        "id": "rkvaDRWg6uYI",
        "outputId": "4c2a5e9e-6680-4ad6-cb4a-c5d89a97ad75"
      },
      "execution_count": 3,
      "outputs": [
        {
          "output_type": "stream",
          "name": "stdout",
          "text": [
            "3821 5190\n",
            "[3821, 3823, 3833, 3847, 3851, 3853, 3863, 3877, 3881, 3889, 3907, 3911, 3917, 3919, 3923, 3929, 3931, 3943, 3947, 3967, 3989, 4001, 4003, 4007, 4013, 4019, 4021, 4027, 4049, 4051, 4057, 4073, 4079, 4091, 4093, 4099, 4111, 4127, 4129, 4133, 4139, 4153, 4157, 4159, 4177, 4201, 4211, 4217, 4219, 4229, 4231, 4241, 4243, 4253, 4259, 4261, 4271, 4273, 4283, 4289, 4297, 4327, 4337, 4339, 4349, 4357, 4363, 4373, 4391, 4397, 4409, 4421, 4423, 4441, 4447, 4451, 4457, 4463, 4481, 4483, 4493, 4507, 4513, 4517, 4519, 4523, 4547, 4549, 4561, 4567, 4583, 4591, 4597, 4603, 4621, 4637, 4639, 4643, 4649, 4651, 4657, 4663, 4673, 4679, 4691, 4703, 4721, 4723, 4729, 4733, 4751, 4759, 4783, 4787, 4789, 4793, 4799, 4801, 4813, 4817, 4831, 4861, 4871, 4877, 4889, 4903, 4909, 4919, 4931, 4933, 4937, 4943, 4951, 4957, 4967, 4969, 4973, 4987, 4993, 4999, 5003, 5009, 5011, 5021, 5023, 5039, 5051, 5059, 5077, 5081, 5087, 5099, 5101, 5107, 5113, 5119, 5147, 5153, 5167, 5171, 5179, 5189]\n"
          ]
        }
      ]
    },
    {
      "cell_type": "code",
      "source": [],
      "metadata": {
        "id": "a0euzqSBUoFg"
      },
      "execution_count": null,
      "outputs": []
    }
  ]
}