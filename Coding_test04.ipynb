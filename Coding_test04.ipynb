{
  "nbformat": 4,
  "nbformat_minor": 0,
  "metadata": {
    "colab": {
      "provenance": [],
      "authorship_tag": "ABX9TyOHZ78fPWzYMwCUuvuRl3KP",
      "include_colab_link": true
    },
    "kernelspec": {
      "name": "python3",
      "display_name": "Python 3"
    },
    "language_info": {
      "name": "python"
    }
  },
  "cells": [
    {
      "cell_type": "markdown",
      "metadata": {
        "id": "view-in-github",
        "colab_type": "text"
      },
      "source": [
        "<a href=\"https://colab.research.google.com/github/Jenny000327/Python_Study/blob/main/Coding_test04.ipynb\" target=\"_parent\"><img src=\"https://colab.research.google.com/assets/colab-badge.svg\" alt=\"Open In Colab\"/></a>"
      ]
    },
    {
      "cell_type": "markdown",
      "source": [
        "# 숫자 카드 게임\n",
        "\n",
        "\n",
        "---\n",
        "\n",
        "숫자 카드 게임은 여러개의 숫자 카드 중 가장 높은 숫자가 쓰인 카드 한 장을 뽑는 게임이다. \n",
        "1. 숫자가 쓰인 카드들이 N * M 형태로 놓여 있다. 이때 N은 행의 개수를 의미하며, M은 열의 개수를 의미한다.\n",
        "2. 먼저 뽑고자 하는 카드가 포함 되어 있는 행을 선택한다.\n",
        "3. 그 다음 선택된 행에 포함된 카드들 중 가장 숫자가 낮은 카드를 뽑아야 한다.\n",
        "4. 따라서 처음에 카드를 골라낼 행을 선택할 때, 이후에 해당 행에서 가장 숫자가 낮은 카드를 뽑을 것을 고려하여 최종적으로 가장 높은 숫자의 카드를 뽑을 수 있도록 전략을 세워야 한다. "
      ],
      "metadata": {
        "id": "IPIoS66MrS7J"
      }
    },
    {
      "cell_type": "markdown",
      "source": [
        "입력 조건 \n",
        "\n",
        "- 첫째 줄에 숫자 카드들이 놓인 행의 개수 N과 열의 개수 M이 공백을 기준으로 각각 자연수로 주어진다. \n",
        "   \n",
        "   (1<= N, M <= 100)\n",
        "\n",
        "- 둘째 줄부터 N개의 줄에 걸쳐 각 카드에 적힌 숫자가 주어진다. 각 숫자가 주어진다. 각 숫자는 1이상 10,000이하의 자연수이다.\n",
        "\n",
        "\n",
        "---\n",
        "\n",
        "출력 조건 \n",
        "\n",
        "첫째줄에 게임의 룰에 맞게 선택한 카드에 적힌 숫자를 출력한다.\n"
      ],
      "metadata": {
        "id": "R87a3RNFucMB"
      }
    },
    {
      "cell_type": "code",
      "source": [
        "#각 행마다 작은 수를 찾은 뒤 그중 가장 큰 수 \n",
        "\n",
        "# N,M입력\n",
        "n, m = map(int, input().split())\n",
        "\n",
        "result = 0\n",
        "\n",
        "for i in range(n):\n",
        "    data = list(map(int, input().split()))\n",
        "    min_value = min(data)\n",
        "    result = max(result, min_value)\n",
        "\n",
        "print(result)"
      ],
      "metadata": {
        "colab": {
          "base_uri": "https://localhost:8080/"
        },
        "id": "EZPj_fpKubLT",
        "outputId": "9457d07f-5d50-4970-8e19-41f2aa889ccc"
      },
      "execution_count": 1,
      "outputs": [
        {
          "output_type": "stream",
          "name": "stdout",
          "text": [
            "3 3\n",
            "3 1 2 \n",
            "4 1 4\n",
            "2 2 2\n",
            "2\n"
          ]
        }
      ]
    },
    {
      "cell_type": "code",
      "execution_count": 2,
      "metadata": {
        "colab": {
          "base_uri": "https://localhost:8080/"
        },
        "id": "WPXw04GprBvi",
        "outputId": "b4ab3d6a-0c14-4a46-b96a-99a0621e098e"
      },
      "outputs": [
        {
          "output_type": "stream",
          "name": "stdout",
          "text": [
            "2 4\n",
            "7 3 1 8\n",
            "3 3 3 3\n",
            "3\n"
          ]
        }
      ],
      "source": [
        "# 입력\n",
        "n,m =map(int, input().split())\n",
        "\n",
        "result = 0\n",
        "for i in range(n):\n",
        "    data = list(map(int, input().split()))\n",
        "\n",
        "    min_value = 10001\n",
        "    for a in data:\n",
        "        min_value = min(min_value, a)\n",
        "    result = max(result, min_value)\n",
        "\n",
        "print(result)"
      ]
    }
  ]
}