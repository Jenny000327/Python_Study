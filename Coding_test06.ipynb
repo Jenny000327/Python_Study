{
  "nbformat": 4,
  "nbformat_minor": 0,
  "metadata": {
    "colab": {
      "provenance": [],
      "collapsed_sections": [
        "gbBtkaxY0TQn"
      ],
      "toc_visible": true,
      "authorship_tag": "ABX9TyNJhJkXHtIJ2BX4sE0nHLtp",
      "include_colab_link": true
    },
    "kernelspec": {
      "name": "python3",
      "display_name": "Python 3"
    },
    "language_info": {
      "name": "python"
    }
  },
  "cells": [
    {
      "cell_type": "markdown",
      "metadata": {
        "id": "view-in-github",
        "colab_type": "text"
      },
      "source": [
        "<a href=\"https://colab.research.google.com/github/Jenny000327/Python_Study/blob/main/Coding_test06.ipynb\" target=\"_parent\"><img src=\"https://colab.research.google.com/assets/colab-badge.svg\" alt=\"Open In Colab\"/></a>"
      ]
    },
    {
      "cell_type": "markdown",
      "source": [
        "#상하 좌우\n",
        "여행가 A는 N x N 크기의 정사각형 공간 위에 서 있다.\n",
        "이 공간은 1 x 1 크기의 정사각형으로 나누어져 있다. \n",
        "\n",
        "가장 왼쪽 위 좌표는 (1,1) 이며, 가장 오른쪽 아래 좌표는 (N,N)에 해당한다.\n",
        "\n",
        " 여행가 A는 상, 하, 좌, 우 방향으로 이동할 수 있으며, 시작 좌표는 항상 (1,1)이다. 우리 앞에는 여행가 A가 이동할 계획이 적힌 계획서가 놓여있다. \n",
        "\n",
        " 계획서에는 하나의 줄에 띄어쓰기를 기준으로 하여 L, R, U, D 중 하나의 문자가 반복적으로 적혀 있다.\n",
        "\n",
        "\n",
        "\n",
        "---\n",
        "\n",
        "\n",
        "각 문자의 의미는 다음과 같다.\n",
        "\n",
        "- L : 왼쪽으로 한 칸 이동\n",
        "- R : 오른쪽으로 한 칸 이동\n",
        "- U : 위로 한 칸 이동\n",
        "- D : 아래로 한 칸 이동\n",
        "\n",
        "이때 여행가 A가 N x N 크기의 정사각형 공간을 벗어나는 움직임은 무시된다. \n",
        "예를 들어 (1,1)의 위치에서 L 혹은 U를 만나면 무시된다.\n"
      ],
      "metadata": {
        "id": "gbBtkaxY0TQn"
      }
    },
    {
      "cell_type": "markdown",
      "source": [
        "입력 조건 \n",
        "- 첫째 줄에 공간의 크기를 나타내는 N이 주어진다. (1 <= N <= 100)\n",
        "- 둘째 줄에 여행가 A가 이동할 계획서 내용이 주어진다. (1 <= 이동횟수 <= 100)\n",
        "\n",
        "\n",
        "\n",
        "---\n",
        "\n",
        "\n",
        "출력조건\n",
        "- 첫째 줄에 여행가 A가 최종적으로 도착할 지점의 좌표 (X,Y)를 공백으로 구분하여 출력한다. "
      ],
      "metadata": {
        "id": "JvbE47922l8j"
      }
    },
    {
      "cell_type": "code",
      "execution_count": null,
      "metadata": {
        "colab": {
          "base_uri": "https://localhost:8080/"
        },
        "id": "OWEYVz0H0PIM",
        "outputId": "b8be5845-ed56-468d-bb70-21615817f1bc"
      },
      "outputs": [
        {
          "output_type": "stream",
          "name": "stdout",
          "text": [
            "5\n",
            "R R R U D D\n",
            "3 4\n"
          ]
        }
      ],
      "source": [
        "n = int(input())\n",
        "x,y = 1,1\n",
        "plans = input().split()\n",
        "\n",
        "#L,R, U, D에 따른 이동 방향\n",
        "dx = [0,0,-1,1]\n",
        "dy = [-1,1,0,0]\n",
        "move_types = ['L','R','U','D']\n",
        "\n",
        "#이동 계획을 하나씩 확인\n",
        "for plan in plans:\n",
        "    #이동 후 좌표 구하기\n",
        "    for i in range(len(move_types)):\n",
        "        if plan == move_types[i]:\n",
        "            nx = x + dx[i]\n",
        "            ny = y + dy[i]\n",
        "    \n",
        "    # 공간을 벗어나는 경우 무시\n",
        "    if nx < 1 or ny < 1 or nx > n or ny > n:\n",
        "        continue\n",
        "    #이동 수행\n",
        "    x, y = nx,ny\n",
        "\n",
        "print(x,y)"
      ]
    },
    {
      "cell_type": "markdown",
      "source": [],
      "metadata": {
        "id": "BToZDwr1ZUSj"
      }
    },
    {
      "cell_type": "code",
      "source": [],
      "metadata": {
        "id": "SHhgqTz75ZH1"
      },
      "execution_count": null,
      "outputs": []
    },
    {
      "cell_type": "markdown",
      "source": [
        "# 시각\n",
        "\n",
        "정수 N이 입력되면 00시 00분 00초 부터 N시 59분 59초까지의 모든 시각 중에서 3이 하나라도 포함되는 모든 경우의 수를 구하는 프로그램을 작성하시오.\n",
        "\n",
        "예를 들어 1을 입력했을 때 다음은 3이 하나라도 포함되어 있으므로 세어야 하는 시각이다.\n",
        "\n",
        "- 00시 00분 03초\n",
        "- 00시 13분 30초\n",
        "\n",
        "반면에 다음은 3이 하나도 포함되어 있지 않으므로 세면 안 되는 시각이다. \n",
        "\n",
        "- 00시 02분 55초\n",
        "- 01시 27분 45초\n",
        "\n"
      ],
      "metadata": {
        "id": "g629H4VkZWUp"
      }
    },
    {
      "cell_type": "markdown",
      "source": [
        "입력 조건\n",
        "- 첫째줄에 정수 N이 입력된다.( 0 <= N <= 23)\n",
        "\n",
        "\n",
        "출력 조건\n",
        "- 00시 00분 00초부터 N시 59분 59초까지의 모든 시간 중에서 3이 하나라도 포함되는 모든 경우의 수를 출력한다.\n"
      ],
      "metadata": {
        "id": "cO5NejQHaFIZ"
      }
    },
    {
      "cell_type": "code",
      "source": [
        "#하루 86400초 => 문자열 이용 \n",
        "#단순히 시각을 1씩 증가시켜 증가시키면서 3이 하나라도 포함되어 있는지 확인하면 될 것이다. \n",
        "#전체 시,분,초 => 24 * 60 * 60\n",
        "\n",
        "\n",
        "h = int(input())\n",
        "\n",
        "count = 0\n",
        "for i in range(h+1):\n",
        "    for j in range(60):\n",
        "        for k in range(60):\n",
        "            if '3'in str(i) + str(j) + str(k):\n",
        "                count += 1\n",
        "\n",
        "print(count)"
      ],
      "metadata": {
        "colab": {
          "base_uri": "https://localhost:8080/"
        },
        "id": "cBGnEojKaEYO",
        "outputId": "dff31547-c7a6-4118-dfc2-e5ee2a72bd21"
      },
      "execution_count": 1,
      "outputs": [
        {
          "output_type": "stream",
          "name": "stdout",
          "text": [
            "5\n",
            "11475\n"
          ]
        }
      ]
    },
    {
      "cell_type": "code",
      "source": [],
      "metadata": {
        "id": "6k9msZo1kuCf"
      },
      "execution_count": null,
      "outputs": []
    }
  ]
}