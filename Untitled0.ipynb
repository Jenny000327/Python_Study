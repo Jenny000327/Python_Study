{
  "nbformat": 4,
  "nbformat_minor": 0,
  "metadata": {
    "colab": {
      "provenance": [],
      "authorship_tag": "ABX9TyPpDn130sbNekTSMbTsUBoX",
      "include_colab_link": true
    },
    "kernelspec": {
      "name": "python3",
      "display_name": "Python 3"
    },
    "language_info": {
      "name": "python"
    }
  },
  "cells": [
    {
      "cell_type": "markdown",
      "metadata": {
        "id": "view-in-github",
        "colab_type": "text"
      },
      "source": [
        "<a href=\"https://colab.research.google.com/github/Jenny000327/Python_Study/blob/main/Untitled0.ipynb\" target=\"_parent\"><img src=\"https://colab.research.google.com/assets/colab-badge.svg\" alt=\"Open In Colab\"/></a>"
      ]
    },
    {
      "cell_type": "code",
      "execution_count": null,
      "metadata": {
        "colab": {
          "base_uri": "https://localhost:8080/"
        },
        "id": "QPE9pO3c8O4p",
        "outputId": "c2a18251-0c7c-4ba5-c137-bc161dfa285f"
      },
      "outputs": [
        {
          "output_type": "stream",
          "name": "stdout",
          "text": [
            "100\n",
            "25\n",
            "[2, 3, 5, 7, 11, 13, 17, 19, 23, 29, 31, 37, 41, 43, 47, 53, 59, 61, 67, 71, 73, 79, 83, 89, 97]\n"
          ]
        }
      ],
      "source": [
        "import math\n",
        "n = int(input())\n",
        "\n",
        "prime_num = list(range(2,n+1))  #1은 소수가 아님. 2부터 n까지 리스트에 저장\n",
        "for i in range(2, int(math.sqrt(n))+1):\n",
        "    for j in prime_num[:]:\n",
        "        if not j % i and j != i:    #j가 i로 나누어 떨어지고, i가 j와 같지 않다면\n",
        "            prime_num.remove(j)    #리스트에서 j 제거\n",
        "print(len(prime_num))   #남은 리스트의 길이 반환\n",
        "print(prime_num)"
      ]
    }
  ]
}