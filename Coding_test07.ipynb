{
  "nbformat": 4,
  "nbformat_minor": 0,
  "metadata": {
    "colab": {
      "provenance": [],
      "authorship_tag": "ABX9TyNH2TED1wOEj2iKRGQILTPP",
      "include_colab_link": true
    },
    "kernelspec": {
      "name": "python3",
      "display_name": "Python 3"
    },
    "language_info": {
      "name": "python"
    }
  },
  "cells": [
    {
      "cell_type": "markdown",
      "metadata": {
        "id": "view-in-github",
        "colab_type": "text"
      },
      "source": [
        "<a href=\"https://colab.research.google.com/github/Jenny000327/Python_Study/blob/main/Coding_test07.ipynb\" target=\"_parent\"><img src=\"https://colab.research.google.com/assets/colab-badge.svg\" alt=\"Open In Colab\"/></a>"
      ]
    },
    {
      "cell_type": "markdown",
      "source": [
        "왕실 나이트\n",
        "1. 수평으로 두 칸 이동한 뒤에 수직으로 한 칸 이동하기\n",
        "2. 수직으로 두 칸 이동한 뒤에 수평으로한 칸 이동하기\n",
        "8 * 8 좌표 평면상에서나이트의 위치가 주어졌을 때 나이트가 이동할 수 있는 경우의 수를 출력하는 프로그램을 작성하시오. \n",
        "이때 왕실의 정원에서 행 위치를 표현할 때는 1부터 8로 표현하며, 열 위치를 표현할 때는 a 부터 h 로 표현한다.\n",
        "\n",
        "\n",
        "\n",
        "---\n",
        "\n",
        "입력 조건:\n",
        "\n",
        " 첫째 줄에 8*8 좌표 평면상에서 현재 나이트가 위치한 곳의 좌표를 나타내는 두 문자로 구성된 문자 열이 입력된다. 입력 문자는 a1처럼 열과 행으로 이루어진다.\n",
        "\n",
        "\n",
        "출력조건:\n",
        "\n",
        "첫째 줄에 나이트가 이동할 수 있는 경우의 수를 출력하시오."
      ],
      "metadata": {
        "id": "NXHBZw96501Y"
      }
    },
    {
      "cell_type": "code",
      "execution_count": 2,
      "metadata": {
        "colab": {
          "base_uri": "https://localhost:8080/"
        },
        "id": "4MR3qvCc5loA",
        "outputId": "04f95df2-0f7a-4b57-8190-9f1ab9604219"
      },
      "outputs": [
        {
          "output_type": "stream",
          "name": "stdout",
          "text": [
            "a1\n",
            "2\n"
          ]
        }
      ],
      "source": [
        "#현재 나이트의 위치 입력 받기\n",
        "input_data = input()\n",
        "row = int(input_data[1])\n",
        "column = int(ord(input_data[0])) - int(ord('a')) +1\n",
        "steps = [(-2,-1), (-1,-2), (1,-2), (2,-1), (2,1), (1,2), (-1, 2), (-2,1)]\n",
        "\n",
        "result = 0\n",
        "for step in steps:\n",
        "    next_row = row + step[0]\n",
        "    next_column = column + step[1]\n",
        "    if next_row >= 1 and next_row <= 8 and next_column >= 1 and next_column <= 8:\n",
        "        result += 1\n",
        "    \n",
        "print(result)"
      ]
    }
  ]
}