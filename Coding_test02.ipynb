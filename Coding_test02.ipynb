{
  "nbformat": 4,
  "nbformat_minor": 0,
  "metadata": {
    "colab": {
      "provenance": [],
      "authorship_tag": "ABX9TyMNQX0zQKKpf/+t+nVs0m8Y",
      "include_colab_link": true
    },
    "kernelspec": {
      "name": "python3",
      "display_name": "Python 3"
    },
    "language_info": {
      "name": "python"
    }
  },
  "cells": [
    {
      "cell_type": "markdown",
      "metadata": {
        "id": "view-in-github",
        "colab_type": "text"
      },
      "source": [
        "<a href=\"https://colab.research.google.com/github/Jenny000327/Python_Study/blob/main/Coding_test02.ipynb\" target=\"_parent\"><img src=\"https://colab.research.google.com/assets/colab-badge.svg\" alt=\"Open In Colab\"/></a>"
      ]
    },
    {
      "cell_type": "markdown",
      "source": [
        "# 당장 좋은 것만 선택하는 그리디"
      ],
      "metadata": {
        "id": "CxrLJPsjAEu3"
      }
    },
    {
      "cell_type": "markdown",
      "source": [
        "## 거스름돈\n",
        "\n",
        "\n",
        "\n",
        "---\n",
        "\n",
        "당신은 음식점의 계산을 도와주는 점원이다. 카운터에는거스름돈으로 사용할 500원,100원, 50원, 10원짜리 동전이 무한히 존재한다고 가정한다. 손님에게 거슬러 줘야 할 돈이 N원일 때 거슬러 줘야 할 동전의 최소 개수를 구하라. 단, 거슬러 줘야 할 돈 N 은 항상 10의 배수이다."
      ],
      "metadata": {
        "id": "epPhfEWoASeL"
      }
    },
    {
      "cell_type": "code",
      "execution_count": null,
      "metadata": {
        "colab": {
          "base_uri": "https://localhost:8080/"
        },
        "id": "F_byUxJbAD_7",
        "outputId": "1c7bf12f-8c11-44f8-8d27-636e20404697"
      },
      "outputs": [
        {
          "output_type": "stream",
          "name": "stdout",
          "text": [
            "1260\n",
            "6\n"
          ]
        }
      ],
      "source": [
        "user_input =int(input())\n",
        "count = 0\n",
        "\n",
        "#큰단위 화폐부터 차례대로 확인\n",
        "coin_types = [500,100,50,10]\n",
        "\n",
        "for coin in coin_types:\n",
        "    count += user_input//coin #해당 화폐로 거슬러 줄 수 있는 동전의 개수\n",
        "    user_input %= coin\n",
        "\n",
        "print(count)"
      ]
    },
    {
      "cell_type": "markdown",
      "source": [
        "그리디 알고리즘의 정당성\n",
        "\n",
        "가지고 있는 동전 중에서 큰 단위가 항상 작은 단위의 배수이므로 작은 동전들을 종합해 다른 해가 나올 수 없다.\n",
        "\n",
        "대부분의 그리디 알고리즘 문제에서는 문제 풀이를 위한 최소한의 아이디어를 떠올리고 이것이 정당한지 검토 할 수 있어야 답을 도출할 수 있다."
      ],
      "metadata": {
        "id": "JpoXjpVvCVTF"
      }
    },
    {
      "cell_type": "code",
      "source": [],
      "metadata": {
        "id": "PlpkvT9cB3v5"
      },
      "execution_count": null,
      "outputs": []
    }
  ]
}