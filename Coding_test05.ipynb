{
  "nbformat": 4,
  "nbformat_minor": 0,
  "metadata": {
    "colab": {
      "provenance": [],
      "authorship_tag": "ABX9TyP33gW1YfFKKyccXMupHnkw",
      "include_colab_link": true
    },
    "kernelspec": {
      "name": "python3",
      "display_name": "Python 3"
    },
    "language_info": {
      "name": "python"
    }
  },
  "cells": [
    {
      "cell_type": "markdown",
      "metadata": {
        "id": "view-in-github",
        "colab_type": "text"
      },
      "source": [
        "<a href=\"https://colab.research.google.com/github/Jenny000327/Python_Study/blob/main/Coding_test05.ipynb\" target=\"_parent\"><img src=\"https://colab.research.google.com/assets/colab-badge.svg\" alt=\"Open In Colab\"/></a>"
      ]
    },
    {
      "cell_type": "markdown",
      "source": [
        "# 1이 될 때까지\n",
        "\n",
        "어떠한 수 N이 1이 될 때 까지 다음의 두 과정 중 하나를 반복적으로 선택하여 수행하려고 한다. 단, 두 번째 연산은 N이 K로 나누어떨어질 때만선택할 수 있다. \n",
        "\n",
        "1. N에서 1을 뺀다.\n",
        "2. N을 K로 나눈다.\n",
        "\n",
        "\n",
        "N과 K가 주어질 때 N이 1일 될 때까지 1번 혹은 2번의 과정을 수행해야 하는 최소 횟수를 구하는 프로그램을 작성하시오.\n",
        "\n",
        "---\n",
        "\n",
        "입력 조건 : \n",
        "\n",
        "첫째 줄에 N (2 <= N <= 100,0000) 과 K ( 2 <= K <= 100,000) 가 공백으로 구분되며 각각 자연수로 주어진다. 이때 입력으로 주어지는 N은 항상 K보다 크거나 같다. \n",
        "\n",
        "\n",
        "출력 조건 : \n",
        "\n",
        "첫째 줄에 N이 1이 될 때까지 1번 혹은 2번의 과정을 수행헤야 하는 횟수의 최솟값을 출력한다. \n"
      ],
      "metadata": {
        "id": "oh6vi0NqeCMr"
      }
    },
    {
      "cell_type": "code",
      "execution_count": 1,
      "metadata": {
        "id": "6XmyxXXtNz-r",
        "colab": {
          "base_uri": "https://localhost:8080/"
        },
        "outputId": "91c1e68a-1082-46c5-b2df-1e5df0f6ca0b"
      },
      "outputs": [
        {
          "output_type": "stream",
          "name": "stdout",
          "text": [
            "25 5\n",
            "2\n"
          ]
        }
      ],
      "source": [
        "n, k = map(int, input().split())\n",
        "result = 0\n",
        "\n",
        "# N이 K이상이라면 K로 계속 나누기 \n",
        "while n >= k:\n",
        "    #N이 K로 나누어 떨어지지 않는다면 N에서 1씩 빼기 \n",
        "    while n % k != 0:\n",
        "        n -= 1\n",
        "        result += 1\n",
        "    n //= k\n",
        "    result += 1\n",
        "\n",
        "while n > 1:\n",
        "    n -= 1\n",
        "    result += 1\n",
        "\n",
        "print(result)\n"
      ]
    },
    {
      "cell_type": "code",
      "source": [
        "n, k =map(int, input().split())\n",
        "result = 0\n",
        "\n",
        "while True:\n",
        "    target = (n//k) * k\n",
        "    result += 1\n",
        "    n = target\n",
        "    # n이 k보다 작을 때 반복문 탈출 \n",
        "    if n < k:\n",
        "        break\n",
        "    #k로 나누기\n",
        "    result += 1\n",
        "    n //= k\n",
        "\n",
        "#마지막으로 남은 수에 대하여 1씩 빼기 \n",
        "result += (n-1)\n",
        "print(result)"
      ],
      "metadata": {
        "colab": {
          "base_uri": "https://localhost:8080/"
        },
        "id": "CF6ja8gFg8E8",
        "outputId": "23977d6b-1ee1-4899-e2a0-247d9a82a56f"
      },
      "execution_count": 3,
      "outputs": [
        {
          "output_type": "stream",
          "name": "stdout",
          "text": [
            "25 5\n",
            "4\n"
          ]
        }
      ]
    },
    {
      "cell_type": "code",
      "source": [
        "n =25\n",
        "k = 5\n",
        "result = 0\n",
        "target = 0\n",
        "\n",
        "target = (n//k) * k\n",
        "result += 1\n",
        "n = target\n",
        "result += 1\n",
        "n //= k\n",
        "print('target : '+ str(target))\n",
        "print('n : ' + str(n))\n",
        "print('result : '+ str(result))\n",
        "\n",
        "\n",
        "target = (n//k) * k\n",
        "result += 1\n",
        "n = target\n",
        "result += 1\n",
        "n //= k\n",
        "print('target : '+ str(target))\n",
        "print('n : ' + str(n))\n",
        "print('result : '+ str(result))\n",
        "\n",
        "target = (n//k) * k\n",
        "result += 1\n",
        "n = target\n",
        "result += 1\n",
        "n //= k\n",
        "print('target : '+ str(target))\n",
        "print('n : ' + str(n))\n",
        "print('result : '+ str(result))"
      ],
      "metadata": {
        "colab": {
          "base_uri": "https://localhost:8080/"
        },
        "id": "S5oWH4bJiQ4F",
        "outputId": "f2f8b104-e708-4947-b713-584a8e4a5b8f"
      },
      "execution_count": 15,
      "outputs": [
        {
          "output_type": "stream",
          "name": "stdout",
          "text": [
            "target : 25\n",
            "n : 5\n",
            "result : 2\n",
            "target : 5\n",
            "n : 1\n",
            "result : 4\n",
            "target : 0\n",
            "n : 0\n",
            "result : 6\n"
          ]
        }
      ]
    }
  ]
}