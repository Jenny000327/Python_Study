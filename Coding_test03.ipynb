{
  "nbformat": 4,
  "nbformat_minor": 0,
  "metadata": {
    "colab": {
      "provenance": [],
      "toc_visible": true,
      "authorship_tag": "ABX9TyPkeqaxGPd5SiuzIFV4P6T0",
      "include_colab_link": true
    },
    "kernelspec": {
      "name": "python3",
      "display_name": "Python 3"
    },
    "language_info": {
      "name": "python"
    }
  },
  "cells": [
    {
      "cell_type": "markdown",
      "metadata": {
        "id": "view-in-github",
        "colab_type": "text"
      },
      "source": [
        "<a href=\"https://colab.research.google.com/github/Jenny000327/Python_Study/blob/main/Coding_test03.ipynb\" target=\"_parent\"><img src=\"https://colab.research.google.com/assets/colab-badge.svg\" alt=\"Open In Colab\"/></a>"
      ]
    },
    {
      "cell_type": "markdown",
      "source": [
        "# 큰 수의 법칙\n"
      ],
      "metadata": {
        "id": "HEqzQkZJCJew"
      }
    },
    {
      "cell_type": "markdown",
      "source": [
        "다양한 수로 이루어진 배열이 있을 때 주어진 수들을 M번 더하여 가장 큰 수를 만드는 법칙.\n",
        "\n",
        " 단 배열의 특정한 인덱스에 해당하는 수가 연속해서 K번을 초과하여 더해질 수 없는것이 이 법칙의 특징.\n",
        "\n",
        "\n",
        "---\n",
        "\n",
        "입력 조건 \n",
        "\n",
        "1) 첫째 줄에 N ( 2 <= N <= 1,000 ), M ( 1 <= N <= 10,000 ),  K ( 1 <= K <= 10,000)의 자연수가 주어지며, 각 자연수는 공백으로 구분.\n",
        "\n",
        "2) 둘째 줄에 N개의 자연수가 주어진다. 각 자연수는 공백으로 구분한다. 단 각각의 자연수는 1 이상 10,000 이하의 수로 주어진다. \n",
        "\n",
        "3) 입력으로 주어지는 K는 항상 M보다 작거나 같다.\n",
        "\n",
        "\n",
        "출력 조건\n",
        "\n",
        "첫째 줄에 동빈이의 큰 수의 법칙에 따라 더해지 답을 출력 \n"
      ],
      "metadata": {
        "id": "A2d-Fo95qmtX"
      }
    },
    {
      "cell_type": "code",
      "source": [
        "# N, M, K를 공백으로 구분하여 입력하기\n",
        "n, m, k = map(int, input().split())\n",
        "#N개의 수를 공백으로 구분하여 입력 받기\n",
        "data = list(map(int, input().split()))\n",
        "\n",
        "data.sort() #입력 받은 수 정렬\n",
        "first = data[n-1] #가장 큰 수\n",
        "second = data[n-2] # 두번째로 큰 수\n",
        "\n",
        "result = 0\n",
        "while True:\n",
        "    for i in range(k): #가장 큰 수를 k 번 더하기\n",
        "        if m == 0:\n",
        "            break\n",
        "        result += first\n",
        "        m -= 1 #더할때마다 1씩 빼기\n",
        "    if m == 0:\n",
        "        break\n",
        "    result += second #두번째로 큰 수를 한번 더하기\n",
        "    m -= 1 #더할 때 마다 1씩 빼기\n",
        "\n",
        "print(result) #최종 답"
      ],
      "metadata": {
        "colab": {
          "base_uri": "https://localhost:8080/"
        },
        "id": "gSH-2yi_ql0d",
        "outputId": "8597c9de-babc-49bf-fa75-79c16dec7119"
      },
      "execution_count": 3,
      "outputs": [
        {
          "output_type": "stream",
          "name": "stdout",
          "text": [
            "5 8 3\n",
            "2 4 5 4 6\n",
            "46\n"
          ]
        }
      ]
    },
    {
      "cell_type": "code",
      "execution_count": 4,
      "metadata": {
        "colab": {
          "base_uri": "https://localhost:8080/"
        },
        "id": "QJwjT7wa37Rt",
        "outputId": "9c4e57d9-b09b-44ac-ed43-8fc56378b0f7"
      },
      "outputs": [
        {
          "output_type": "stream",
          "name": "stdout",
          "text": [
            "5 8 3\n",
            "2 4 5 4 6\n",
            "46\n"
          ]
        }
      ],
      "source": [
        "# N, M, K를 공백으로 구분하여 입력하기\n",
        "n, m, k = map(int, input().split())\n",
        "#N개의 수를 공백으로 구분하여 입력받기\n",
        "data = list(map(int, input().split()))\n",
        "\n",
        "data.sort() #정렬\n",
        "first = data[n-1] #가장 큰수\n",
        "second = data[n-2] #두번째로 큰 수\n",
        "\n",
        "#가장 큰수가 더해지는 횟수 계산\n",
        "count  = int(m/(k+1))*k\n",
        "count += m % (k+1)\n",
        "\n",
        "result = 0\n",
        "result += (count) *first #가장 큰 수 더하기\n",
        "result += (m - count) * second #두번째로 큰 수 더하기\n",
        "\n",
        "print(result) #최종 답\n"
      ]
    }
  ]
}